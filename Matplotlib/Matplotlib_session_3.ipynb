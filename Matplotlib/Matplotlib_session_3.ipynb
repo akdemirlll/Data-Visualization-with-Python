{
 "cells": [
  {
   "cell_type": "code",
   "execution_count": 1,
   "metadata": {},
   "outputs": [],
   "source": [
    "slices = [59219, 55466, 47544, 36443, 35917]\n",
    "\n",
    "langs = ['JavaScript', 'HTML/CSS', 'SQL', 'Python', 'Java']"
   ]
  },
  {
   "cell_type": "code",
   "execution_count": 20,
   "metadata": {},
   "outputs": [
    {
     "data": {
      "image/png": "[encoded data removed]",
      "text/plain": [
       "<Figure size 504x504 with 1 Axes>"
      ]
     },
     "metadata": {},
     "output_type": "display_data"
    }
   ],
   "source": [
    "import matplotlib.pyplot as plt\n",
    "\n",
    "# Pie chart, where the slices will be ordered and plotted counter-clockwise:\n",
    "labels = langs\n",
    "sizes = slices\n",
    "explode = (0, 0, 0, 0.2, 0)  # only \"explode\" the 2nd slice (i.e. 'Hogs')\n",
    "\n",
    "fig, ax = plt.subplots(figsize=(7,7))\n",
    "\n",
    "ax.pie(sizes, explode=explode, labels=labels, autopct='%1.1f%%',\n",
    "        shadow=False, startangle=110)\n",
    "ax.axis('equal')  # Equal aspect ratio ensures that pie is drawn as a circle.\n",
    "\n",
    "plt.show()"
   ]
  },
  {
   "cell_type": "code",
   "execution_count": 22,
   "metadata": {},
   "outputs": [],
   "source": [
    "fig.savefig(\"mypiechart.png\", dpi =200)"
   ]
  },
  {
   "cell_type": "markdown",
   "metadata": {},
   "source": [
    "# histogram"
   ]
  },
  {
   "cell_type": "code",
   "execution_count": 23,
   "metadata": {},
   "outputs": [],
   "source": [
    "import pandas as pd\n",
    "import matplotlib.pyplot as plt\n",
    "import numpy as np\n",
    "\n",
    "\n",
    "data = pd.read_csv('hist_data.csv')"
   ]
  },
  {
   "cell_type": "code",
   "execution_count": 24,
   "metadata": {},
   "outputs": [
    {
     "data": {
      "text/html": [
       "<div>\n",
       "<style scoped>\n",
       "    .dataframe tbody tr th:only-of-type {\n",
       "        vertical-align: middle;\n",
       "    }\n",
       "\n",
       "    .dataframe tbody tr th {\n",
       "        vertical-align: top;\n",
       "    }\n",
       "\n",
       "    .dataframe thead th {\n",
       "        text-align: right;\n",
       "    }\n",
       "</style>\n",
       "<table border=\"1\" class=\"dataframe\">\n",
       "  <thead>\n",
       "    <tr style=\"text-align: right;\">\n",
       "      <th></th>\n",
       "      <th>Responder_id</th>\n",
       "      <th>Age</th>\n",
       "    </tr>\n",
       "  </thead>\n",
       "  <tbody>\n",
       "    <tr>\n",
       "      <th>0</th>\n",
       "      <td>1</td>\n",
       "      <td>14</td>\n",
       "    </tr>\n",
       "    <tr>\n",
       "      <th>1</th>\n",
       "      <td>2</td>\n",
       "      <td>19</td>\n",
       "    </tr>\n",
       "    <tr>\n",
       "      <th>2</th>\n",
       "      <td>3</td>\n",
       "      <td>28</td>\n",
       "    </tr>\n",
       "    <tr>\n",
       "      <th>3</th>\n",
       "      <td>4</td>\n",
       "      <td>22</td>\n",
       "    </tr>\n",
       "    <tr>\n",
       "      <th>4</th>\n",
       "      <td>5</td>\n",
       "      <td>30</td>\n",
       "    </tr>\n",
       "  </tbody>\n",
       "</table>\n",
       "</div>"
      ],
      "text/plain": [
       "   Responder_id  Age\n",
       "0             1   14\n",
       "1             2   19\n",
       "2             3   28\n",
       "3             4   22\n",
       "4             5   30"
      ]
     },
     "execution_count": 24,
     "metadata": {},
     "output_type": "execute_result"
    }
   ],
   "source": [
    "data.head()"
   ]
  },
  {
   "cell_type": "code",
   "execution_count": 26,
   "metadata": {},
   "outputs": [
    {
     "data": {
      "text/plain": [
       "(79210, 2)"
      ]
     },
     "execution_count": 26,
     "metadata": {},
     "output_type": "execute_result"
    }
   ],
   "source": [
    "data.shape"
   ]
  },
  {
   "cell_type": "code",
   "execution_count": 27,
   "metadata": {},
   "outputs": [
    {
     "data": {
      "text/plain": [
       "91"
      ]
     },
     "execution_count": 27,
     "metadata": {},
     "output_type": "execute_result"
    }
   ],
   "source": [
    "data.Age.nunique()"
   ]
  },
  {
   "cell_type": "code",
   "execution_count": 28,
   "metadata": {},
   "outputs": [
    {
     "data": {
      "text/plain": [
       "99"
      ]
     },
     "execution_count": 28,
     "metadata": {},
     "output_type": "execute_result"
    }
   ],
   "source": [
    "data.Age.max()"
   ]
  },
  {
   "cell_type": "code",
   "execution_count": 58,
   "metadata": {},
   "outputs": [
    {
     "data": {
      "text/plain": [
       "1"
      ]
     },
     "execution_count": 58,
     "metadata": {},
     "output_type": "execute_result"
    }
   ],
   "source": [
    "data.Age.min()"
   ]
  },
  {
   "cell_type": "code",
   "execution_count": 29,
   "metadata": {},
   "outputs": [
    {
     "data": {
      "text/plain": [
       "29.0"
      ]
     },
     "execution_count": 29,
     "metadata": {},
     "output_type": "execute_result"
    }
   ],
   "source": [
    "data.Age.median()"
   ]
  },
  {
   "cell_type": "code",
   "execution_count": 46,
   "metadata": {},
   "outputs": [],
   "source": [
    "mean = data.Age.mean()"
   ]
  },
  {
   "cell_type": "code",
   "execution_count": 52,
   "metadata": {},
   "outputs": [
    {
     "data": {
      "text/plain": [
       "30.336674662290115"
      ]
     },
     "execution_count": 52,
     "metadata": {},
     "output_type": "execute_result"
    }
   ],
   "source": [
    "mean"
   ]
  },
  {
   "cell_type": "code",
   "execution_count": 43,
   "metadata": {},
   "outputs": [],
   "source": [
    "ages = data[\"Age\"]"
   ]
  },
  {
   "cell_type": "code",
   "execution_count": 60,
   "metadata": {},
   "outputs": [
    {
     "data": {
      "image/png": "[encoded data removed]",
      "text/plain": [
       "<Figure size 864x288 with 2 Axes>"
      ]
     },
     "metadata": {
      "needs_background": "light"
     },
     "output_type": "display_data"
    }
   ],
   "source": [
    "fig, ax = plt.subplots(1,2, figsize=(12,4))\n",
    "\n",
    "ax[0].hist(ages, bins=10)\n",
    "ax[0].axvline(mean, color = \"red\", ls = \"--\")\n",
    "ax[0].set_xticks([0,10,20,30,40,50,60,70,80,90,100])\n",
    "ax[1].boxplot(ages)\n",
    "ax[1].axhline(24)\n",
    "ax[1].axhline(35);"
   ]
  },
  {
   "cell_type": "code",
   "execution_count": 48,
   "metadata": {},
   "outputs": [
    {
     "name": "stdout",
     "output_type": "stream",
     "text": [
      "q1: 24.0\n",
      "q3: 35.0\n",
      "iqr: 11.0\n",
      "lower_bound: 7.5\n",
      "upper_bound: 51.5\n",
      "min_value: 1\n",
      "max_vale: 99\n"
     ]
    }
   ],
   "source": [
    "from scipy.stats import iqr\n",
    "\n",
    "q75, q25 = np.percentile(ages, [75, 25])\n",
    "\n",
    "\n",
    "print(\"q1:\", q25)\n",
    "print(\"q3:\", q75)\n",
    "print(\"iqr:\", iqr(ages))\n",
    "\n",
    "lower_bound = q25-(1.5*iqr(ages))\n",
    "upper_bound = q75+(1.5*iqr(ages))\n",
    "\n",
    "print(\"lower_bound:\", lower_bound)\n",
    "print(\"upper_bound:\", upper_bound)\n",
    "\n",
    "print(\"min_value:\", min(ages))\n",
    "print(\"max_vale:\", max(ages))"
   ]
  },
  {
   "cell_type": "markdown",
   "metadata": {},
   "source": [
    "# scatter plot"
   ]
  },
  {
   "cell_type": "code",
   "execution_count": 61,
   "metadata": {},
   "outputs": [],
   "source": [
    "df = pd.read_csv('scatter_data.csv')"
   ]
  },
  {
   "cell_type": "code",
   "execution_count": 62,
   "metadata": {},
   "outputs": [
    {
     "data": {
      "text/html": [
       "<div>\n",
       "<style scoped>\n",
       "    .dataframe tbody tr th:only-of-type {\n",
       "        vertical-align: middle;\n",
       "    }\n",
       "\n",
       "    .dataframe tbody tr th {\n",
       "        vertical-align: top;\n",
       "    }\n",
       "\n",
       "    .dataframe thead th {\n",
       "        text-align: right;\n",
       "    }\n",
       "</style>\n",
       "<table border=\"1\" class=\"dataframe\">\n",
       "  <thead>\n",
       "    <tr style=\"text-align: right;\">\n",
       "      <th></th>\n",
       "      <th>view_count</th>\n",
       "      <th>likes</th>\n",
       "      <th>ratio</th>\n",
       "    </tr>\n",
       "  </thead>\n",
       "  <tbody>\n",
       "    <tr>\n",
       "      <th>0</th>\n",
       "      <td>8036001</td>\n",
       "      <td>324742</td>\n",
       "      <td>96.91</td>\n",
       "    </tr>\n",
       "    <tr>\n",
       "      <th>1</th>\n",
       "      <td>9378067</td>\n",
       "      <td>562589</td>\n",
       "      <td>98.19</td>\n",
       "    </tr>\n",
       "    <tr>\n",
       "      <th>2</th>\n",
       "      <td>2182066</td>\n",
       "      <td>273650</td>\n",
       "      <td>99.38</td>\n",
       "    </tr>\n",
       "    <tr>\n",
       "      <th>3</th>\n",
       "      <td>6525864</td>\n",
       "      <td>94698</td>\n",
       "      <td>96.25</td>\n",
       "    </tr>\n",
       "    <tr>\n",
       "      <th>4</th>\n",
       "      <td>9481284</td>\n",
       "      <td>582481</td>\n",
       "      <td>97.22</td>\n",
       "    </tr>\n",
       "  </tbody>\n",
       "</table>\n",
       "</div>"
      ],
      "text/plain": [
       "   view_count   likes  ratio\n",
       "0     8036001  324742  96.91\n",
       "1     9378067  562589  98.19\n",
       "2     2182066  273650  99.38\n",
       "3     6525864   94698  96.25\n",
       "4     9481284  582481  97.22"
      ]
     },
     "execution_count": 62,
     "metadata": {},
     "output_type": "execute_result"
    }
   ],
   "source": [
    "df.head()"
   ]
  },
  {
   "cell_type": "code",
   "execution_count": 63,
   "metadata": {},
   "outputs": [
    {
     "data": {
      "text/plain": [
       "(200, 3)"
      ]
     },
     "execution_count": 63,
     "metadata": {},
     "output_type": "execute_result"
    }
   ],
   "source": [
    "df.shape"
   ]
  },
  {
   "cell_type": "code",
   "execution_count": 64,
   "metadata": {},
   "outputs": [
    {
     "data": {
      "text/html": [
       "<div>\n",
       "<style scoped>\n",
       "    .dataframe tbody tr th:only-of-type {\n",
       "        vertical-align: middle;\n",
       "    }\n",
       "\n",
       "    .dataframe tbody tr th {\n",
       "        vertical-align: top;\n",
       "    }\n",
       "\n",
       "    .dataframe thead th {\n",
       "        text-align: right;\n",
       "    }\n",
       "</style>\n",
       "<table border=\"1\" class=\"dataframe\">\n",
       "  <thead>\n",
       "    <tr style=\"text-align: right;\">\n",
       "      <th></th>\n",
       "      <th>view_count</th>\n",
       "      <th>likes</th>\n",
       "      <th>ratio</th>\n",
       "    </tr>\n",
       "  </thead>\n",
       "  <tbody>\n",
       "    <tr>\n",
       "      <th>view_count</th>\n",
       "      <td>1.000000</td>\n",
       "      <td>0.936048</td>\n",
       "      <td>0.038939</td>\n",
       "    </tr>\n",
       "    <tr>\n",
       "      <th>likes</th>\n",
       "      <td>0.936048</td>\n",
       "      <td>1.000000</td>\n",
       "      <td>0.090327</td>\n",
       "    </tr>\n",
       "    <tr>\n",
       "      <th>ratio</th>\n",
       "      <td>0.038939</td>\n",
       "      <td>0.090327</td>\n",
       "      <td>1.000000</td>\n",
       "    </tr>\n",
       "  </tbody>\n",
       "</table>\n",
       "</div>"
      ],
      "text/plain": [
       "            view_count     likes     ratio\n",
       "view_count    1.000000  0.936048  0.038939\n",
       "likes         0.936048  1.000000  0.090327\n",
       "ratio         0.038939  0.090327  1.000000"
      ]
     },
     "execution_count": 64,
     "metadata": {},
     "output_type": "execute_result"
    }
   ],
   "source": [
    "df.corr()"
   ]
  },
  {
   "cell_type": "code",
   "execution_count": 65,
   "metadata": {},
   "outputs": [],
   "source": [
    "view_count = df[\"view_count\"]"
   ]
  },
  {
   "cell_type": "code",
   "execution_count": 66,
   "metadata": {},
   "outputs": [],
   "source": [
    "likes = df[\"likes\"]"
   ]
  },
  {
   "cell_type": "code",
   "execution_count": 67,
   "metadata": {},
   "outputs": [
    {
     "data": {
      "text/plain": [
       "<matplotlib.collections.PathCollection at 0x235f9ff1788>"
      ]
     },
     "execution_count": 67,
     "metadata": {},
     "output_type": "execute_result"
    },
    {
     "data": {
      "image/png": "[encoded data removed]",
      "text/plain": [
       "<Figure size 720x504 with 1 Axes>"
      ]
     },
     "metadata": {
      "needs_background": "light"
     },
     "output_type": "display_data"
    }
   ],
   "source": [
    "fig, ax = plt.subplots(figsize=(10,7))\n",
    "ax.scatter(view_count, likes)"
   ]
  },
  {
   "cell_type": "code",
   "execution_count": 68,
   "metadata": {},
   "outputs": [
    {
     "data": {
      "image/png": "[encoded data removed]",
      "text/plain": [
       "<Figure size 720x504 with 1 Axes>"
      ]
     },
     "metadata": {
      "needs_background": "light"
     },
     "output_type": "display_data"
    }
   ],
   "source": [
    "fig, ax = plt.subplots(figsize=(10, 7))\n",
    "ax.scatter(view_count, likes)\n",
    "\n",
    "\n",
    "ax.set_xscale('log')\n",
    "ax.set_yscale('log')\n",
    "\n",
    "\n",
    "ax.set_title('Trending YouTube Videos')\n",
    "ax.set_xlabel('View Count')\n",
    "ax.set_ylabel('Total Likes')\n",
    "plt.tight_layout()"
   ]
  },
  {
   "cell_type": "code",
   "execution_count": 72,
   "metadata": {},
   "outputs": [
    {
     "data": {
      "image/png": "[encoded data removed]",
      "text/plain": [
       "<Figure size 720x504 with 1 Axes>"
      ]
     },
     "metadata": {
      "needs_background": "light"
     },
     "output_type": "display_data"
    }
   ],
   "source": [
    "from scipy import stats\n",
    "fig, ax = plt.subplots(figsize=(10, 7))\n",
    "reg=stats.probplot(df['view_count'], plot=plt)"
   ]
  },
  {
   "cell_type": "code",
   "execution_count": 73,
   "metadata": {},
   "outputs": [
    {
     "data": {
      "image/png": "[encoded data removed]",
      "text/plain": [
       "<Figure size 720x504 with 1 Axes>"
      ]
     },
     "metadata": {
      "needs_background": "light"
     },
     "output_type": "display_data"
    }
   ],
   "source": [
    "from scipy import stats\n",
    "fig, ax = plt.subplots(figsize=(10, 7))\n",
    "reg=stats.probplot(np.log(df[\"view_count\"].values), plot=plt)\n"
   ]
  },
  {
   "cell_type": "code",
   "execution_count": null,
   "metadata": {},
   "outputs": [],
   "source": []
  },
  {
   "cell_type": "markdown",
   "metadata": {},
   "source": [
    "# time series "
   ]
  },
  {
   "cell_type": "code",
   "execution_count": 76,
   "metadata": {},
   "outputs": [],
   "source": [
    "#pip install pandas-datareader"
   ]
  },
  {
   "cell_type": "code",
   "execution_count": 77,
   "metadata": {},
   "outputs": [],
   "source": [
    "from pandas_datareader import data\n",
    "from datetime import datetime\n",
    "\n",
    "start = datetime(2020, 1, 1)\n",
    "end = datetime(2020, 8, 30)"
   ]
  },
  {
   "cell_type": "code",
   "execution_count": 82,
   "metadata": {},
   "outputs": [],
   "source": [
    "f = data.DataReader(name=\"AAPL\", data_source=\"av-daily\", start=start, end=end, api_key = \"CI1UUA44YI12JAB3\")"
   ]
  },
  {
   "cell_type": "code",
   "execution_count": 89,
   "metadata": {},
   "outputs": [
    {
     "data": {
      "text/html": [
       "<div>\n",
       "<style scoped>\n",
       "    .dataframe tbody tr th:only-of-type {\n",
       "        vertical-align: middle;\n",
       "    }\n",
       "\n",
       "    .dataframe tbody tr th {\n",
       "        vertical-align: top;\n",
       "    }\n",
       "\n",
       "    .dataframe thead th {\n",
       "        text-align: right;\n",
       "    }\n",
       "</style>\n",
       "<table border=\"1\" class=\"dataframe\">\n",
       "  <thead>\n",
       "    <tr style=\"text-align: right;\">\n",
       "      <th></th>\n",
       "      <th>open</th>\n",
       "      <th>high</th>\n",
       "      <th>low</th>\n",
       "      <th>close</th>\n",
       "      <th>volume</th>\n",
       "    </tr>\n",
       "  </thead>\n",
       "  <tbody>\n",
       "    <tr>\n",
       "      <th>2020-01-02</th>\n",
       "      <td>296.24</td>\n",
       "      <td>300.60</td>\n",
       "      <td>295.19</td>\n",
       "      <td>300.35</td>\n",
       "      <td>33870100</td>\n",
       "    </tr>\n",
       "    <tr>\n",
       "      <th>2020-01-03</th>\n",
       "      <td>297.15</td>\n",
       "      <td>300.58</td>\n",
       "      <td>296.50</td>\n",
       "      <td>297.43</td>\n",
       "      <td>36580700</td>\n",
       "    </tr>\n",
       "    <tr>\n",
       "      <th>2020-01-06</th>\n",
       "      <td>293.79</td>\n",
       "      <td>299.96</td>\n",
       "      <td>292.75</td>\n",
       "      <td>299.80</td>\n",
       "      <td>29596800</td>\n",
       "    </tr>\n",
       "    <tr>\n",
       "      <th>2020-01-07</th>\n",
       "      <td>299.84</td>\n",
       "      <td>300.90</td>\n",
       "      <td>297.48</td>\n",
       "      <td>298.39</td>\n",
       "      <td>27218000</td>\n",
       "    </tr>\n",
       "    <tr>\n",
       "      <th>2020-01-08</th>\n",
       "      <td>297.16</td>\n",
       "      <td>304.44</td>\n",
       "      <td>297.16</td>\n",
       "      <td>303.19</td>\n",
       "      <td>33019800</td>\n",
       "    </tr>\n",
       "  </tbody>\n",
       "</table>\n",
       "</div>"
      ],
      "text/plain": [
       "              open    high     low   close    volume\n",
       "2020-01-02  296.24  300.60  295.19  300.35  33870100\n",
       "2020-01-03  297.15  300.58  296.50  297.43  36580700\n",
       "2020-01-06  293.79  299.96  292.75  299.80  29596800\n",
       "2020-01-07  299.84  300.90  297.48  298.39  27218000\n",
       "2020-01-08  297.16  304.44  297.16  303.19  33019800"
      ]
     },
     "execution_count": 89,
     "metadata": {},
     "output_type": "execute_result"
    }
   ],
   "source": [
    "f.head()"
   ]
  },
  {
   "cell_type": "code",
   "execution_count": 90,
   "metadata": {},
   "outputs": [
    {
     "data": {
      "text/html": [
       "<div>\n",
       "<style scoped>\n",
       "    .dataframe tbody tr th:only-of-type {\n",
       "        vertical-align: middle;\n",
       "    }\n",
       "\n",
       "    .dataframe tbody tr th {\n",
       "        vertical-align: top;\n",
       "    }\n",
       "\n",
       "    .dataframe thead th {\n",
       "        text-align: right;\n",
       "    }\n",
       "</style>\n",
       "<table border=\"1\" class=\"dataframe\">\n",
       "  <thead>\n",
       "    <tr style=\"text-align: right;\">\n",
       "      <th></th>\n",
       "      <th>open</th>\n",
       "      <th>high</th>\n",
       "      <th>low</th>\n",
       "      <th>close</th>\n",
       "      <th>volume</th>\n",
       "    </tr>\n",
       "  </thead>\n",
       "  <tbody>\n",
       "    <tr>\n",
       "      <th>2020-08-24</th>\n",
       "      <td>514.7900</td>\n",
       "      <td>515.1400</td>\n",
       "      <td>495.745</td>\n",
       "      <td>503.43</td>\n",
       "      <td>86484442</td>\n",
       "    </tr>\n",
       "    <tr>\n",
       "      <th>2020-08-25</th>\n",
       "      <td>498.7900</td>\n",
       "      <td>500.7172</td>\n",
       "      <td>492.210</td>\n",
       "      <td>499.30</td>\n",
       "      <td>52873947</td>\n",
       "    </tr>\n",
       "    <tr>\n",
       "      <th>2020-08-26</th>\n",
       "      <td>504.7165</td>\n",
       "      <td>507.9700</td>\n",
       "      <td>500.330</td>\n",
       "      <td>506.09</td>\n",
       "      <td>40755567</td>\n",
       "    </tr>\n",
       "    <tr>\n",
       "      <th>2020-08-27</th>\n",
       "      <td>508.5700</td>\n",
       "      <td>509.9400</td>\n",
       "      <td>495.330</td>\n",
       "      <td>500.04</td>\n",
       "      <td>38888096</td>\n",
       "    </tr>\n",
       "    <tr>\n",
       "      <th>2020-08-28</th>\n",
       "      <td>504.0500</td>\n",
       "      <td>505.7700</td>\n",
       "      <td>498.310</td>\n",
       "      <td>499.23</td>\n",
       "      <td>46907479</td>\n",
       "    </tr>\n",
       "  </tbody>\n",
       "</table>\n",
       "</div>"
      ],
      "text/plain": [
       "                open      high      low   close    volume\n",
       "2020-08-24  514.7900  515.1400  495.745  503.43  86484442\n",
       "2020-08-25  498.7900  500.7172  492.210  499.30  52873947\n",
       "2020-08-26  504.7165  507.9700  500.330  506.09  40755567\n",
       "2020-08-27  508.5700  509.9400  495.330  500.04  38888096\n",
       "2020-08-28  504.0500  505.7700  498.310  499.23  46907479"
      ]
     },
     "execution_count": 90,
     "metadata": {},
     "output_type": "execute_result"
    }
   ],
   "source": [
    "f.tail()"
   ]
  },
  {
   "cell_type": "code",
   "execution_count": 83,
   "metadata": {},
   "outputs": [],
   "source": [
    "g = data.DataReader(name=\"GOOG\", data_source=\"av-daily\", start=start, end=end, api_key = \"CI1UUA44YI12JAB3\")"
   ]
  },
  {
   "cell_type": "code",
   "execution_count": 84,
   "metadata": {},
   "outputs": [
    {
     "data": {
      "text/html": [
       "<div>\n",
       "<style scoped>\n",
       "    .dataframe tbody tr th:only-of-type {\n",
       "        vertical-align: middle;\n",
       "    }\n",
       "\n",
       "    .dataframe tbody tr th {\n",
       "        vertical-align: top;\n",
       "    }\n",
       "\n",
       "    .dataframe thead th {\n",
       "        text-align: right;\n",
       "    }\n",
       "</style>\n",
       "<table border=\"1\" class=\"dataframe\">\n",
       "  <thead>\n",
       "    <tr style=\"text-align: right;\">\n",
       "      <th></th>\n",
       "      <th>open</th>\n",
       "      <th>high</th>\n",
       "      <th>low</th>\n",
       "      <th>close</th>\n",
       "      <th>volume</th>\n",
       "    </tr>\n",
       "  </thead>\n",
       "  <tbody>\n",
       "    <tr>\n",
       "      <th>2020-01-02</th>\n",
       "      <td>1341.55</td>\n",
       "      <td>1368.14</td>\n",
       "      <td>1341.55</td>\n",
       "      <td>1367.37</td>\n",
       "      <td>1406731</td>\n",
       "    </tr>\n",
       "    <tr>\n",
       "      <th>2020-01-03</th>\n",
       "      <td>1347.86</td>\n",
       "      <td>1372.50</td>\n",
       "      <td>1345.54</td>\n",
       "      <td>1360.66</td>\n",
       "      <td>1187006</td>\n",
       "    </tr>\n",
       "    <tr>\n",
       "      <th>2020-01-06</th>\n",
       "      <td>1350.00</td>\n",
       "      <td>1396.50</td>\n",
       "      <td>1350.00</td>\n",
       "      <td>1394.21</td>\n",
       "      <td>1733149</td>\n",
       "    </tr>\n",
       "    <tr>\n",
       "      <th>2020-01-07</th>\n",
       "      <td>1397.94</td>\n",
       "      <td>1402.99</td>\n",
       "      <td>1390.38</td>\n",
       "      <td>1393.34</td>\n",
       "      <td>1511693</td>\n",
       "    </tr>\n",
       "    <tr>\n",
       "      <th>2020-01-08</th>\n",
       "      <td>1392.08</td>\n",
       "      <td>1411.58</td>\n",
       "      <td>1390.84</td>\n",
       "      <td>1404.32</td>\n",
       "      <td>1529177</td>\n",
       "    </tr>\n",
       "  </tbody>\n",
       "</table>\n",
       "</div>"
      ],
      "text/plain": [
       "               open     high      low    close   volume\n",
       "2020-01-02  1341.55  1368.14  1341.55  1367.37  1406731\n",
       "2020-01-03  1347.86  1372.50  1345.54  1360.66  1187006\n",
       "2020-01-06  1350.00  1396.50  1350.00  1394.21  1733149\n",
       "2020-01-07  1397.94  1402.99  1390.38  1393.34  1511693\n",
       "2020-01-08  1392.08  1411.58  1390.84  1404.32  1529177"
      ]
     },
     "execution_count": 84,
     "metadata": {},
     "output_type": "execute_result"
    }
   ],
   "source": [
    "g.head()"
   ]
  },
  {
   "cell_type": "code",
   "execution_count": 85,
   "metadata": {},
   "outputs": [
    {
     "data": {
      "text/html": [
       "<div>\n",
       "<style scoped>\n",
       "    .dataframe tbody tr th:only-of-type {\n",
       "        vertical-align: middle;\n",
       "    }\n",
       "\n",
       "    .dataframe tbody tr th {\n",
       "        vertical-align: top;\n",
       "    }\n",
       "\n",
       "    .dataframe thead th {\n",
       "        text-align: right;\n",
       "    }\n",
       "</style>\n",
       "<table border=\"1\" class=\"dataframe\">\n",
       "  <thead>\n",
       "    <tr style=\"text-align: right;\">\n",
       "      <th></th>\n",
       "      <th>open</th>\n",
       "      <th>high</th>\n",
       "      <th>low</th>\n",
       "      <th>close</th>\n",
       "      <th>volume</th>\n",
       "    </tr>\n",
       "  </thead>\n",
       "  <tbody>\n",
       "    <tr>\n",
       "      <th>2020-08-24</th>\n",
       "      <td>1593.98</td>\n",
       "      <td>1614.1700</td>\n",
       "      <td>1580.57</td>\n",
       "      <td>1588.20</td>\n",
       "      <td>1410229</td>\n",
       "    </tr>\n",
       "    <tr>\n",
       "      <th>2020-08-25</th>\n",
       "      <td>1582.07</td>\n",
       "      <td>1611.6200</td>\n",
       "      <td>1582.07</td>\n",
       "      <td>1608.22</td>\n",
       "      <td>2132084</td>\n",
       "    </tr>\n",
       "    <tr>\n",
       "      <th>2020-08-26</th>\n",
       "      <td>1608.00</td>\n",
       "      <td>1659.2200</td>\n",
       "      <td>1603.60</td>\n",
       "      <td>1652.38</td>\n",
       "      <td>3581072</td>\n",
       "    </tr>\n",
       "    <tr>\n",
       "      <th>2020-08-27</th>\n",
       "      <td>1653.68</td>\n",
       "      <td>1655.0000</td>\n",
       "      <td>1625.75</td>\n",
       "      <td>1634.33</td>\n",
       "      <td>1861602</td>\n",
       "    </tr>\n",
       "    <tr>\n",
       "      <th>2020-08-28</th>\n",
       "      <td>1633.49</td>\n",
       "      <td>1647.1699</td>\n",
       "      <td>1630.75</td>\n",
       "      <td>1644.41</td>\n",
       "      <td>1499782</td>\n",
       "    </tr>\n",
       "  </tbody>\n",
       "</table>\n",
       "</div>"
      ],
      "text/plain": [
       "               open       high      low    close   volume\n",
       "2020-08-24  1593.98  1614.1700  1580.57  1588.20  1410229\n",
       "2020-08-25  1582.07  1611.6200  1582.07  1608.22  2132084\n",
       "2020-08-26  1608.00  1659.2200  1603.60  1652.38  3581072\n",
       "2020-08-27  1653.68  1655.0000  1625.75  1634.33  1861602\n",
       "2020-08-28  1633.49  1647.1699  1630.75  1644.41  1499782"
      ]
     },
     "execution_count": 85,
     "metadata": {},
     "output_type": "execute_result"
    }
   ],
   "source": [
    "g.tail()"
   ]
  },
  {
   "cell_type": "code",
   "execution_count": 86,
   "metadata": {},
   "outputs": [],
   "source": [
    "a = data.DataReader(name=\"AMZN\", data_source=\"av-daily\", start=start, end=end, api_key = \"CI1UUA44YI12JAB3\")"
   ]
  },
  {
   "cell_type": "code",
   "execution_count": 87,
   "metadata": {},
   "outputs": [
    {
     "data": {
      "text/html": [
       "<div>\n",
       "<style scoped>\n",
       "    .dataframe tbody tr th:only-of-type {\n",
       "        vertical-align: middle;\n",
       "    }\n",
       "\n",
       "    .dataframe tbody tr th {\n",
       "        vertical-align: top;\n",
       "    }\n",
       "\n",
       "    .dataframe thead th {\n",
       "        text-align: right;\n",
       "    }\n",
       "</style>\n",
       "<table border=\"1\" class=\"dataframe\">\n",
       "  <thead>\n",
       "    <tr style=\"text-align: right;\">\n",
       "      <th></th>\n",
       "      <th>open</th>\n",
       "      <th>high</th>\n",
       "      <th>low</th>\n",
       "      <th>close</th>\n",
       "      <th>volume</th>\n",
       "    </tr>\n",
       "  </thead>\n",
       "  <tbody>\n",
       "    <tr>\n",
       "      <th>2020-01-02</th>\n",
       "      <td>1875.00</td>\n",
       "      <td>1898.01</td>\n",
       "      <td>1864.15</td>\n",
       "      <td>1898.01</td>\n",
       "      <td>4035910</td>\n",
       "    </tr>\n",
       "    <tr>\n",
       "      <th>2020-01-03</th>\n",
       "      <td>1864.50</td>\n",
       "      <td>1886.20</td>\n",
       "      <td>1864.50</td>\n",
       "      <td>1874.97</td>\n",
       "      <td>3766604</td>\n",
       "    </tr>\n",
       "    <tr>\n",
       "      <th>2020-01-06</th>\n",
       "      <td>1860.00</td>\n",
       "      <td>1903.69</td>\n",
       "      <td>1860.00</td>\n",
       "      <td>1902.88</td>\n",
       "      <td>4065698</td>\n",
       "    </tr>\n",
       "    <tr>\n",
       "      <th>2020-01-07</th>\n",
       "      <td>1904.50</td>\n",
       "      <td>1913.89</td>\n",
       "      <td>1892.04</td>\n",
       "      <td>1906.86</td>\n",
       "      <td>4134010</td>\n",
       "    </tr>\n",
       "    <tr>\n",
       "      <th>2020-01-08</th>\n",
       "      <td>1898.04</td>\n",
       "      <td>1911.00</td>\n",
       "      <td>1886.44</td>\n",
       "      <td>1891.97</td>\n",
       "      <td>3511966</td>\n",
       "    </tr>\n",
       "  </tbody>\n",
       "</table>\n",
       "</div>"
      ],
      "text/plain": [
       "               open     high      low    close   volume\n",
       "2020-01-02  1875.00  1898.01  1864.15  1898.01  4035910\n",
       "2020-01-03  1864.50  1886.20  1864.50  1874.97  3766604\n",
       "2020-01-06  1860.00  1903.69  1860.00  1902.88  4065698\n",
       "2020-01-07  1904.50  1913.89  1892.04  1906.86  4134010\n",
       "2020-01-08  1898.04  1911.00  1886.44  1891.97  3511966"
      ]
     },
     "execution_count": 87,
     "metadata": {},
     "output_type": "execute_result"
    }
   ],
   "source": [
    "a.head()"
   ]
  },
  {
   "cell_type": "code",
   "execution_count": 88,
   "metadata": {},
   "outputs": [
    {
     "data": {
      "text/html": [
       "<div>\n",
       "<style scoped>\n",
       "    .dataframe tbody tr th:only-of-type {\n",
       "        vertical-align: middle;\n",
       "    }\n",
       "\n",
       "    .dataframe tbody tr th {\n",
       "        vertical-align: top;\n",
       "    }\n",
       "\n",
       "    .dataframe thead th {\n",
       "        text-align: right;\n",
       "    }\n",
       "</style>\n",
       "<table border=\"1\" class=\"dataframe\">\n",
       "  <thead>\n",
       "    <tr style=\"text-align: right;\">\n",
       "      <th></th>\n",
       "      <th>open</th>\n",
       "      <th>high</th>\n",
       "      <th>low</th>\n",
       "      <th>close</th>\n",
       "      <th>volume</th>\n",
       "    </tr>\n",
       "  </thead>\n",
       "  <tbody>\n",
       "    <tr>\n",
       "      <th>2020-08-24</th>\n",
       "      <td>3310.15</td>\n",
       "      <td>3380.3150</td>\n",
       "      <td>3257.5608</td>\n",
       "      <td>3307.46</td>\n",
       "      <td>4666258</td>\n",
       "    </tr>\n",
       "    <tr>\n",
       "      <th>2020-08-25</th>\n",
       "      <td>3294.99</td>\n",
       "      <td>3357.4000</td>\n",
       "      <td>3267.0000</td>\n",
       "      <td>3346.49</td>\n",
       "      <td>3992842</td>\n",
       "    </tr>\n",
       "    <tr>\n",
       "      <th>2020-08-26</th>\n",
       "      <td>3351.11</td>\n",
       "      <td>3451.7387</td>\n",
       "      <td>3344.5675</td>\n",
       "      <td>3441.85</td>\n",
       "      <td>6508743</td>\n",
       "    </tr>\n",
       "    <tr>\n",
       "      <th>2020-08-27</th>\n",
       "      <td>3450.05</td>\n",
       "      <td>3453.0000</td>\n",
       "      <td>3378.0000</td>\n",
       "      <td>3400.00</td>\n",
       "      <td>4264795</td>\n",
       "    </tr>\n",
       "    <tr>\n",
       "      <th>2020-08-28</th>\n",
       "      <td>3423.00</td>\n",
       "      <td>3433.3699</td>\n",
       "      <td>3386.5000</td>\n",
       "      <td>3401.80</td>\n",
       "      <td>2896978</td>\n",
       "    </tr>\n",
       "  </tbody>\n",
       "</table>\n",
       "</div>"
      ],
      "text/plain": [
       "               open       high        low    close   volume\n",
       "2020-08-24  3310.15  3380.3150  3257.5608  3307.46  4666258\n",
       "2020-08-25  3294.99  3357.4000  3267.0000  3346.49  3992842\n",
       "2020-08-26  3351.11  3451.7387  3344.5675  3441.85  6508743\n",
       "2020-08-27  3450.05  3453.0000  3378.0000  3400.00  4264795\n",
       "2020-08-28  3423.00  3433.3699  3386.5000  3401.80  2896978"
      ]
     },
     "execution_count": 88,
     "metadata": {},
     "output_type": "execute_result"
    }
   ],
   "source": [
    "a.tail()"
   ]
  },
  {
   "cell_type": "code",
   "execution_count": 94,
   "metadata": {},
   "outputs": [
    {
     "data": {
      "text/plain": [
       "<matplotlib.axes._subplots.AxesSubplot at 0x235f7a11488>"
      ]
     },
     "execution_count": 94,
     "metadata": {},
     "output_type": "execute_result"
    },
    {
     "data": {
      "image/png": "[encoded data removed]",
      "text/plain": [
       "<Figure size 720x504 with 1 Axes>"
      ]
     },
     "metadata": {
      "needs_background": "light"
     },
     "output_type": "display_data"
    }
   ],
   "source": [
    "f.close.plot(figsize=(10,7), rot = 45)"
   ]
  },
  {
   "cell_type": "code",
   "execution_count": 95,
   "metadata": {},
   "outputs": [
    {
     "data": {
      "image/png": "[encoded data removed]",
      "text/plain": [
       "<Figure size 720x504 with 1 Axes>"
      ]
     },
     "metadata": {
      "needs_background": "light"
     },
     "output_type": "display_data"
    }
   ],
   "source": [
    "import matplotlib.pyplot as plt\n",
    "\n",
    "fig, ax = plt.subplots(figsize=(10,7))\n",
    "ax.plot(f.close.index, f.close);"
   ]
  },
  {
   "cell_type": "code",
   "execution_count": 96,
   "metadata": {},
   "outputs": [
    {
     "data": {
      "text/plain": [
       "Index(['2020-01-02', '2020-01-03', '2020-01-06', '2020-01-07', '2020-01-08',\n",
       "       '2020-01-09', '2020-01-10', '2020-01-13', '2020-01-14', '2020-01-15',\n",
       "       ...\n",
       "       '2020-08-17', '2020-08-18', '2020-08-19', '2020-08-20', '2020-08-21',\n",
       "       '2020-08-24', '2020-08-25', '2020-08-26', '2020-08-27', '2020-08-28'],\n",
       "      dtype='object', length=167)"
      ]
     },
     "execution_count": 96,
     "metadata": {},
     "output_type": "execute_result"
    }
   ],
   "source": [
    "f.index"
   ]
  },
  {
   "cell_type": "code",
   "execution_count": 97,
   "metadata": {},
   "outputs": [],
   "source": [
    "f.index = pd.to_datetime(f.index)"
   ]
  },
  {
   "cell_type": "code",
   "execution_count": 98,
   "metadata": {},
   "outputs": [
    {
     "data": {
      "text/plain": [
       "DatetimeIndex(['2020-01-02', '2020-01-03', '2020-01-06', '2020-01-07',\n",
       "               '2020-01-08', '2020-01-09', '2020-01-10', '2020-01-13',\n",
       "               '2020-01-14', '2020-01-15',\n",
       "               ...\n",
       "               '2020-08-17', '2020-08-18', '2020-08-19', '2020-08-20',\n",
       "               '2020-08-21', '2020-08-24', '2020-08-25', '2020-08-26',\n",
       "               '2020-08-27', '2020-08-28'],\n",
       "              dtype='datetime64[ns]', length=167, freq=None)"
      ]
     },
     "execution_count": 98,
     "metadata": {},
     "output_type": "execute_result"
    }
   ],
   "source": [
    "f.index"
   ]
  },
  {
   "cell_type": "code",
   "execution_count": 101,
   "metadata": {},
   "outputs": [
    {
     "data": {
      "image/png": "[encoded data removed]",
      "text/plain": [
       "<Figure size 720x504 with 1 Axes>"
      ]
     },
     "metadata": {
      "needs_background": "light"
     },
     "output_type": "display_data"
    }
   ],
   "source": [
    "import matplotlib.dates as mdates\n",
    "import numpy as np\n",
    "\n",
    "fig, ax = plt.subplots(figsize=(10,7))\n",
    "#ax.xaxis.set_minor_locator(mdates.DayLocator(interval=1))\n",
    "ax.set_xticklabels(f.index, rotation=45)\n",
    "\n",
    "ax.xaxis.set_major_locator(mdates.DayLocator(interval=10))\n",
    "ax.xaxis.set_major_formatter(mdates.DateFormatter('%Y-%m-%d'))\n",
    "\n",
    "ax.plot(f.close.index, f.close);"
   ]
  },
  {
   "cell_type": "code",
   "execution_count": null,
   "metadata": {},
   "outputs": [],
   "source": []
  }
 ],
 "metadata": {
  "kernelspec": {
   "display_name": "Python 3",
   "language": "python",
   "name": "python3"
  },
  "language_info": {
   "codemirror_mode": {
    "name": "ipython",
    "version": 3
   },
   "file_extension": ".py",
   "mimetype": "text/x-python",
   "name": "python",
   "nbconvert_exporter": "python",
   "pygments_lexer": "ipython3",
   "version": "3.7.6"
  }
 },
 "nbformat": 4,
 "nbformat_minor": 4
}
