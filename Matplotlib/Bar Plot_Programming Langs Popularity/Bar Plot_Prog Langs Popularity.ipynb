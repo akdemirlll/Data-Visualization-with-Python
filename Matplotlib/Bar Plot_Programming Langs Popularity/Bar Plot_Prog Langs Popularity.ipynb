{
 "cells": [
  {
   "cell_type": "code",
   "execution_count": 1,
   "metadata": {},
   "outputs": [],
   "source": [
    "import pandas as pd\n",
    "import numpy as np\n",
    "import matplotlib.pyplot as plt"
   ]
  },
  {
   "cell_type": "code",
   "execution_count": 2,
   "metadata": {},
   "outputs": [],
   "source": [
    "df = pd.read_csv(\"bar_data.csv\")"
   ]
  },
  {
   "cell_type": "code",
   "execution_count": 3,
   "metadata": {},
   "outputs": [
    {
     "data": {
      "text/html": [
       "<div>\n",
       "<style scoped>\n",
       "    .dataframe tbody tr th:only-of-type {\n",
       "        vertical-align: middle;\n",
       "    }\n",
       "\n",
       "    .dataframe tbody tr th {\n",
       "        vertical-align: top;\n",
       "    }\n",
       "\n",
       "    .dataframe thead th {\n",
       "        text-align: right;\n",
       "    }\n",
       "</style>\n",
       "<table border=\"1\" class=\"dataframe\">\n",
       "  <thead>\n",
       "    <tr style=\"text-align: right;\">\n",
       "      <th></th>\n",
       "      <th>Responder_id</th>\n",
       "      <th>LanguagesWorkedWith</th>\n",
       "    </tr>\n",
       "  </thead>\n",
       "  <tbody>\n",
       "    <tr>\n",
       "      <th>0</th>\n",
       "      <td>1</td>\n",
       "      <td>HTML/CSS;Java;JavaScript;Python</td>\n",
       "    </tr>\n",
       "    <tr>\n",
       "      <th>1</th>\n",
       "      <td>2</td>\n",
       "      <td>C++;HTML/CSS;Python</td>\n",
       "    </tr>\n",
       "    <tr>\n",
       "      <th>2</th>\n",
       "      <td>3</td>\n",
       "      <td>HTML/CSS</td>\n",
       "    </tr>\n",
       "    <tr>\n",
       "      <th>3</th>\n",
       "      <td>4</td>\n",
       "      <td>C;C++;C#;Python;SQL</td>\n",
       "    </tr>\n",
       "    <tr>\n",
       "      <th>4</th>\n",
       "      <td>5</td>\n",
       "      <td>C++;HTML/CSS;Java;JavaScript;Python;SQL;VBA</td>\n",
       "    </tr>\n",
       "  </tbody>\n",
       "</table>\n",
       "</div>"
      ],
      "text/plain": [
       "   Responder_id                          LanguagesWorkedWith\n",
       "0             1              HTML/CSS;Java;JavaScript;Python\n",
       "1             2                          C++;HTML/CSS;Python\n",
       "2             3                                     HTML/CSS\n",
       "3             4                          C;C++;C#;Python;SQL\n",
       "4             5  C++;HTML/CSS;Java;JavaScript;Python;SQL;VBA"
      ]
     },
     "execution_count": 3,
     "metadata": {},
     "output_type": "execute_result"
    }
   ],
   "source": [
    "df.head()"
   ]
  },
  {
   "cell_type": "code",
   "execution_count": 4,
   "metadata": {},
   "outputs": [
    {
     "data": {
      "text/plain": [
       "(87569, 2)"
      ]
     },
     "execution_count": 4,
     "metadata": {},
     "output_type": "execute_result"
    }
   ],
   "source": [
    "df.shape"
   ]
  },
  {
   "cell_type": "code",
   "execution_count": 5,
   "metadata": {},
   "outputs": [],
   "source": [
    "langs= []\n",
    "\n",
    "for i in df[\"LanguagesWorkedWith\"].to_list():\n",
    "    [langs.append(j) for j in i.split(sep=\";\")]"
   ]
  },
  {
   "cell_type": "code",
   "execution_count": 6,
   "metadata": {},
   "outputs": [
    {
     "data": {
      "text/plain": [
       "440505"
      ]
     },
     "execution_count": 6,
     "metadata": {},
     "output_type": "execute_result"
    }
   ],
   "source": [
    "len(langs)"
   ]
  },
  {
   "cell_type": "code",
   "execution_count": 7,
   "metadata": {},
   "outputs": [],
   "source": [
    "dicti = {i:langs.count(i) for i in set(langs)}"
   ]
  },
  {
   "cell_type": "code",
   "execution_count": 8,
   "metadata": {},
   "outputs": [
    {
     "data": {
      "text/plain": [
       "{'Erlang': 777,\n",
       " 'WebAssembly': 1015,\n",
       " 'Other(s):': 7920,\n",
       " 'VBA': 4781,\n",
       " 'Bash/Shell/PowerShell': 31991,\n",
       " 'JavaScript': 59219,\n",
       " 'Assembly': 5833,\n",
       " 'Rust': 2794,\n",
       " 'Ruby': 7331,\n",
       " 'HTML/CSS': 55466,\n",
       " 'C++': 20524,\n",
       " 'C': 18017,\n",
       " 'R': 5048,\n",
       " 'Elixir': 1260,\n",
       " 'Python': 36443,\n",
       " 'Clojure': 1254,\n",
       " 'Go': 7201,\n",
       " 'C#': 27097,\n",
       " 'SQL': 47544,\n",
       " 'TypeScript': 18523,\n",
       " 'Dart': 1683,\n",
       " 'Java': 35917,\n",
       " 'PHP': 23030,\n",
       " 'F#': 973,\n",
       " 'Objective-C': 4191,\n",
       " 'Kotlin': 5620,\n",
       " 'Scala': 3309,\n",
       " 'Swift': 5744}"
      ]
     },
     "execution_count": 8,
     "metadata": {},
     "output_type": "execute_result"
    }
   ],
   "source": [
    "dicti"
   ]
  },
  {
   "cell_type": "code",
   "execution_count": 9,
   "metadata": {},
   "outputs": [],
   "source": [
    "dicti = {k: v for k, v in sorted(dicti.items(), key=lambda item: item[1])}"
   ]
  },
  {
   "cell_type": "code",
   "execution_count": 10,
   "metadata": {},
   "outputs": [
    {
     "data": {
      "text/plain": [
       "<BarContainer object of 13 artists>"
      ]
     },
     "execution_count": 10,
     "metadata": {},
     "output_type": "execute_result"
    },
    {
     "data": {
      "image/png": "[encoded data removed]",
      "text/plain": [
       "<Figure size 864x576 with 1 Axes>"
      ]
     },
     "metadata": {
      "needs_background": "light"
     },
     "output_type": "display_data"
    }
   ],
   "source": [
    "plt.figure(figsize=(12,8))\n",
    "plt.barh(list(dicti.keys())[15:], list(dicti.values())[15:])"
   ]
  },
  {
   "cell_type": "markdown",
   "metadata": {},
   "source": [
    "## Solution 1:"
   ]
  },
  {
   "cell_type": "code",
   "execution_count": 11,
   "metadata": {},
   "outputs": [
    {
     "data": {
      "text/plain": [
       "<BarContainer object of 15 artists>"
      ]
     },
     "execution_count": 11,
     "metadata": {},
     "output_type": "execute_result"
    },
    {
     "data": {
      "image/png": "[encoded data removed]",
      "text/plain": [
       "<Figure size 864x576 with 1 Axes>"
      ]
     },
     "metadata": {
      "needs_background": "light"
     },
     "output_type": "display_data"
    }
   ],
   "source": [
    "df = pd.read_csv(\"bar_data.csv\")\n",
    "\n",
    "langs= []\n",
    "for i in df[\"LanguagesWorkedWith\"].to_list():\n",
    "    [langs.append(j) for j in i.split(sep=\";\")]\n",
    "\n",
    "dicti = {i:langs.count(i) for i in set(langs)}\n",
    "dicti = {i: j for i, j in sorted(dicti.items(), key=lambda item: item[1])}\n",
    "\n",
    "plt.figure(figsize=(12,8))\n",
    "plt.barh(list(dicti.keys())[-15:], list(dicti.values())[-15:])"
   ]
  },
  {
   "cell_type": "markdown",
   "metadata": {},
   "source": [
    "## Solution 2:"
   ]
  },
  {
   "cell_type": "code",
   "execution_count": 12,
   "metadata": {},
   "outputs": [
    {
     "data": {
      "text/plain": [
       "<matplotlib.axes._subplots.AxesSubplot at 0x2d1611c05c8>"
      ]
     },
     "execution_count": 12,
     "metadata": {},
     "output_type": "execute_result"
    },
    {
     "data": {
      "image/png": "[encoded data removed]",
      "text/plain": [
       "<Figure size 720x504 with 1 Axes>"
      ]
     },
     "metadata": {
      "needs_background": "light"
     },
     "output_type": "display_data"
    }
   ],
   "source": [
    "bar = pd.read_csv('bar_data.csv')\n",
    "\n",
    "langlist =[]\n",
    "for i in bar['LanguagesWorkedWith']:\n",
    "    langlist.extend(i.split(';'))\n",
    "\n",
    "pd.Series(langlist).value_counts().head(15).plot.barh(figsize = (10, 7))"
   ]
  }
 ],
 "metadata": {
  "kernelspec": {
   "display_name": "Python 3",
   "language": "python",
   "name": "python3"
  },
  "language_info": {
   "codemirror_mode": {
    "name": "ipython",
    "version": 3
   },
   "file_extension": ".py",
   "mimetype": "text/x-python",
   "name": "python",
   "nbconvert_exporter": "python",
   "pygments_lexer": "ipython3",
   "version": "3.7.4"
  }
 },
 "nbformat": 4,
 "nbformat_minor": 4
}
